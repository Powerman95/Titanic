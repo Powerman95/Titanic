{
  "cells": [
    {
      "cell_type": "markdown",
      "metadata": {
        "id": "gXb6b0b_yrYQ"
      },
      "source": [
        "# Titanic Survivors Project\n",
        "\n",
        "# Introductory Course 1.8.3 Activity\n",
        "\n",
        "\n",
        "\n",
        "### Activity Goals\n",
        "\n",
        "You will learn how to explore a dataset, run through a notebook to see visualizations, and walk through a sample data project from start to finish.\n",
        "\n",
        "*Estimated Time: 60 minutes*\n",
        "\n",
        "![titanic.jpeg](data:image/jpeg;base64,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)\n",
        "\n",
        "---\n",
        "\n",
        "\n",
        "\n",
        "---\n",
        "\n",
        "\n",
        "\n",
        "---\n",
        "\n"
      ]
    },
    {
      "cell_type": "markdown",
      "metadata": {
        "id": "4HnzDin9lotx"
      },
      "source": [
        "## What is a Jupyter notebook?\n",
        "A Jupyter notebook is an environemt for running code that allows us to see the output of our code as well as add text throughout the process. It is one of the most common platforms data scientists and analysts use for  their projects. [insert link with more info here] \n",
        "\n",
        "This is a Google version of a Jupyter notebook that allows you to run the code through the internet instead of locally on your computer.\n",
        "\n",
        "For this project, you will mostly be editing cells and running them, note completing the actual code."
      ]
    },
    {
      "cell_type": "code",
      "execution_count": 238,
      "metadata": {
        "id": "r0LGAOf_mVYB"
      },
      "outputs": [],
      "source": [
        "#A notebook is made up of cells. This is a code cell."
      ]
    },
    {
      "cell_type": "markdown",
      "metadata": {
        "id": "DcbCSCQEmgQi"
      },
      "source": [
        "This is a text cell. You can double click on me to edit."
      ]
    },
    {
      "cell_type": "code",
      "execution_count": 239,
      "metadata": {
        "colab": {
          "base_uri": "https://localhost:8080/"
        },
        "id": "ms_-od2zmoMo",
        "outputId": "03dde6e8-980b-4e7c-9659-c580ea691791"
      },
      "outputs": [
        {
          "output_type": "stream",
          "name": "stdout",
          "text": [
            "Hello World\n"
          ]
        }
      ],
      "source": [
        "#To run this cell, either press the play button on the left of the cell, or press shift+enter\n",
        "print(\"Hello World\")"
      ]
    },
    {
      "cell_type": "markdown",
      "metadata": {
        "id": "ZBSR4OeKyrYS"
      },
      "source": [
        "---\n",
        "\n",
        "## The Data \n",
        "Now we will explore the Titanic dataset and make a prediction about the survivors.\n",
        "\n",
        "In this notebook, you'll be working with the same data from the previous lesson and making a predictive model using python. The Titanic dataset has information about the passengers and whether or not they survived the sinking of the Titanic.\n",
        "\n",
        "---\n",
        "\n",
        "## Context \n",
        "You have been practicing using Excel tools to analyze data. Now you will get to apply those skills to python and get a glimpse of what you'll be doing when you continue with data projects.\n",
        "\n",
        "---\n"
      ]
    },
    {
      "cell_type": "markdown",
      "metadata": {
        "id": "bnw6fWfLyrYT"
      },
      "source": [
        "## Obtain\n",
        "First, we need to import the libraries we will be using in this notebook."
      ]
    },
    {
      "cell_type": "code",
      "execution_count": 240,
      "metadata": {
        "id": "7SsrIVj9GkbF"
      },
      "outputs": [],
      "source": [
        "#Import all the libraries we will be using in this notebook.\n",
        "\n",
        "import numpy as np\n",
        "import pandas as pd\n",
        "import seaborn as sns\n",
        "from sklearn.linear_model import LogisticRegression\n",
        "import matplotlib.pyplot as plt\n",
        "%matplotlib inline"
      ]
    },
    {
      "cell_type": "markdown",
      "metadata": {
        "id": "Oksw36P-Gn8m"
      },
      "source": [
        "### Loading the data\n",
        "After importing libraries, we will to upload the data we are going to use into a dataframe. This will look like the data you worked with in Excel in the previous lesson.\n",
        "\n",
        "**Note: The values that were blank in Excel show up as NaN (null) in the table.**"
      ]
    },
    {
      "cell_type": "code",
      "execution_count": 241,
      "metadata": {
        "colab": {
          "base_uri": "https://localhost:8080/",
          "height": 206
        },
        "id": "qHnx7nr9GtMu",
        "outputId": "d0b77e16-a61a-4be8-d7ee-d697cebc83e1"
      },
      "outputs": [
        {
          "output_type": "execute_result",
          "data": {
            "text/plain": [
              "   PassengerId  Survived  Pclass  \\\n",
              "0            1         0       3   \n",
              "1            2         1       1   \n",
              "2            3         1       3   \n",
              "3            4         1       1   \n",
              "4            5         0       3   \n",
              "\n",
              "                                                Name     Sex   Age  SibSp  \\\n",
              "0                            Braund, Mr. Owen Harris    male  22.0      1   \n",
              "1  Cumings, Mrs. John Bradley (Florence Briggs Th...  female  38.0      1   \n",
              "2                             Heikkinen, Miss. Laina  female  26.0      0   \n",
              "3       Futrelle, Mrs. Jacques Heath (Lily May Peel)  female  35.0      1   \n",
              "4                           Allen, Mr. William Henry    male  35.0      0   \n",
              "\n",
              "   Parch            Ticket     Fare Cabin Embarked  \n",
              "0      0         A/5 21171   7.2500   NaN        S  \n",
              "1      0          PC 17599  71.2833   C85        C  \n",
              "2      0  STON/O2. 3101282   7.9250   NaN        S  \n",
              "3      0            113803  53.1000  C123        S  \n",
              "4      0            373450   8.0500   NaN        S  "
            ],
            "text/html": [
              "\n",
              "  <div id=\"df-bed37502-b595-455c-8273-41d2faa2fdaf\">\n",
              "    <div class=\"colab-df-container\">\n",
              "      <div>\n",
              "<style scoped>\n",
              "    .dataframe tbody tr th:only-of-type {\n",
              "        vertical-align: middle;\n",
              "    }\n",
              "\n",
              "    .dataframe tbody tr th {\n",
              "        vertical-align: top;\n",
              "    }\n",
              "\n",
              "    .dataframe thead th {\n",
              "        text-align: right;\n",
              "    }\n",
              "</style>\n",
              "<table border=\"1\" class=\"dataframe\">\n",
              "  <thead>\n",
              "    <tr style=\"text-align: right;\">\n",
              "      <th></th>\n",
              "      <th>PassengerId</th>\n",
              "      <th>Survived</th>\n",
              "      <th>Pclass</th>\n",
              "      <th>Name</th>\n",
              "      <th>Sex</th>\n",
              "      <th>Age</th>\n",
              "      <th>SibSp</th>\n",
              "      <th>Parch</th>\n",
              "      <th>Ticket</th>\n",
              "      <th>Fare</th>\n",
              "      <th>Cabin</th>\n",
              "      <th>Embarked</th>\n",
              "    </tr>\n",
              "  </thead>\n",
              "  <tbody>\n",
              "    <tr>\n",
              "      <th>0</th>\n",
              "      <td>1</td>\n",
              "      <td>0</td>\n",
              "      <td>3</td>\n",
              "      <td>Braund, Mr. Owen Harris</td>\n",
              "      <td>male</td>\n",
              "      <td>22.0</td>\n",
              "      <td>1</td>\n",
              "      <td>0</td>\n",
              "      <td>A/5 21171</td>\n",
              "      <td>7.2500</td>\n",
              "      <td>NaN</td>\n",
              "      <td>S</td>\n",
              "    </tr>\n",
              "    <tr>\n",
              "      <th>1</th>\n",
              "      <td>2</td>\n",
              "      <td>1</td>\n",
              "      <td>1</td>\n",
              "      <td>Cumings, Mrs. John Bradley (Florence Briggs Th...</td>\n",
              "      <td>female</td>\n",
              "      <td>38.0</td>\n",
              "      <td>1</td>\n",
              "      <td>0</td>\n",
              "      <td>PC 17599</td>\n",
              "      <td>71.2833</td>\n",
              "      <td>C85</td>\n",
              "      <td>C</td>\n",
              "    </tr>\n",
              "    <tr>\n",
              "      <th>2</th>\n",
              "      <td>3</td>\n",
              "      <td>1</td>\n",
              "      <td>3</td>\n",
              "      <td>Heikkinen, Miss. Laina</td>\n",
              "      <td>female</td>\n",
              "      <td>26.0</td>\n",
              "      <td>0</td>\n",
              "      <td>0</td>\n",
              "      <td>STON/O2. 3101282</td>\n",
              "      <td>7.9250</td>\n",
              "      <td>NaN</td>\n",
              "      <td>S</td>\n",
              "    </tr>\n",
              "    <tr>\n",
              "      <th>3</th>\n",
              "      <td>4</td>\n",
              "      <td>1</td>\n",
              "      <td>1</td>\n",
              "      <td>Futrelle, Mrs. Jacques Heath (Lily May Peel)</td>\n",
              "      <td>female</td>\n",
              "      <td>35.0</td>\n",
              "      <td>1</td>\n",
              "      <td>0</td>\n",
              "      <td>113803</td>\n",
              "      <td>53.1000</td>\n",
              "      <td>C123</td>\n",
              "      <td>S</td>\n",
              "    </tr>\n",
              "    <tr>\n",
              "      <th>4</th>\n",
              "      <td>5</td>\n",
              "      <td>0</td>\n",
              "      <td>3</td>\n",
              "      <td>Allen, Mr. William Henry</td>\n",
              "      <td>male</td>\n",
              "      <td>35.0</td>\n",
              "      <td>0</td>\n",
              "      <td>0</td>\n",
              "      <td>373450</td>\n",
              "      <td>8.0500</td>\n",
              "      <td>NaN</td>\n",
              "      <td>S</td>\n",
              "    </tr>\n",
              "  </tbody>\n",
              "</table>\n",
              "</div>\n",
              "      <button class=\"colab-df-convert\" onclick=\"convertToInteractive('df-bed37502-b595-455c-8273-41d2faa2fdaf')\"\n",
              "              title=\"Convert this dataframe to an interactive table.\"\n",
              "              style=\"display:none;\">\n",
              "        \n",
              "  <svg xmlns=\"http://www.w3.org/2000/svg\" height=\"24px\"viewBox=\"0 0 24 24\"\n",
              "       width=\"24px\">\n",
              "    <path d=\"M0 0h24v24H0V0z\" fill=\"none\"/>\n",
              "    <path d=\"M18.56 5.44l.94 2.06.94-2.06 2.06-.94-2.06-.94-.94-2.06-.94 2.06-2.06.94zm-11 1L8.5 8.5l.94-2.06 2.06-.94-2.06-.94L8.5 2.5l-.94 2.06-2.06.94zm10 10l.94 2.06.94-2.06 2.06-.94-2.06-.94-.94-2.06-.94 2.06-2.06.94z\"/><path d=\"M17.41 7.96l-1.37-1.37c-.4-.4-.92-.59-1.43-.59-.52 0-1.04.2-1.43.59L10.3 9.45l-7.72 7.72c-.78.78-.78 2.05 0 2.83L4 21.41c.39.39.9.59 1.41.59.51 0 1.02-.2 1.41-.59l7.78-7.78 2.81-2.81c.8-.78.8-2.07 0-2.86zM5.41 20L4 18.59l7.72-7.72 1.47 1.35L5.41 20z\"/>\n",
              "  </svg>\n",
              "      </button>\n",
              "      \n",
              "  <style>\n",
              "    .colab-df-container {\n",
              "      display:flex;\n",
              "      flex-wrap:wrap;\n",
              "      gap: 12px;\n",
              "    }\n",
              "\n",
              "    .colab-df-convert {\n",
              "      background-color: #E8F0FE;\n",
              "      border: none;\n",
              "      border-radius: 50%;\n",
              "      cursor: pointer;\n",
              "      display: none;\n",
              "      fill: #1967D2;\n",
              "      height: 32px;\n",
              "      padding: 0 0 0 0;\n",
              "      width: 32px;\n",
              "    }\n",
              "\n",
              "    .colab-df-convert:hover {\n",
              "      background-color: #E2EBFA;\n",
              "      box-shadow: 0px 1px 2px rgba(60, 64, 67, 0.3), 0px 1px 3px 1px rgba(60, 64, 67, 0.15);\n",
              "      fill: #174EA6;\n",
              "    }\n",
              "\n",
              "    [theme=dark] .colab-df-convert {\n",
              "      background-color: #3B4455;\n",
              "      fill: #D2E3FC;\n",
              "    }\n",
              "\n",
              "    [theme=dark] .colab-df-convert:hover {\n",
              "      background-color: #434B5C;\n",
              "      box-shadow: 0px 1px 3px 1px rgba(0, 0, 0, 0.15);\n",
              "      filter: drop-shadow(0px 1px 2px rgba(0, 0, 0, 0.3));\n",
              "      fill: #FFFFFF;\n",
              "    }\n",
              "  </style>\n",
              "\n",
              "      <script>\n",
              "        const buttonEl =\n",
              "          document.querySelector('#df-bed37502-b595-455c-8273-41d2faa2fdaf button.colab-df-convert');\n",
              "        buttonEl.style.display =\n",
              "          google.colab.kernel.accessAllowed ? 'block' : 'none';\n",
              "\n",
              "        async function convertToInteractive(key) {\n",
              "          const element = document.querySelector('#df-bed37502-b595-455c-8273-41d2faa2fdaf');\n",
              "          const dataTable =\n",
              "            await google.colab.kernel.invokeFunction('convertToInteractive',\n",
              "                                                     [key], {});\n",
              "          if (!dataTable) return;\n",
              "\n",
              "          const docLinkHtml = 'Like what you see? Visit the ' +\n",
              "            '<a target=\"_blank\" href=https://colab.research.google.com/notebooks/data_table.ipynb>data table notebook</a>'\n",
              "            + ' to learn more about interactive tables.';\n",
              "          element.innerHTML = '';\n",
              "          dataTable['output_type'] = 'display_data';\n",
              "          await google.colab.output.renderOutput(dataTable, element);\n",
              "          const docLink = document.createElement('div');\n",
              "          docLink.innerHTML = docLinkHtml;\n",
              "          element.appendChild(docLink);\n",
              "        }\n",
              "      </script>\n",
              "    </div>\n",
              "  </div>\n",
              "  "
            ]
          },
          "metadata": {},
          "execution_count": 241
        }
      ],
      "source": [
        "#The total data is split into a training and test set. Training is used to \"train\" the model, and the test set \n",
        "#is used to test the accuracy of the model. We load them both here from the Github repository.\n",
        "titanic_train = \"https://raw.githubusercontent.com/HackerUSA-CE/intro-project/main/data/train.csv\"\n",
        "titanic_test = \"https://raw.githubusercontent.com/HackerUSA-CE/intro-project/main/data/test.csv\"\n",
        "\n",
        "#We assign the data to a name so we can refer to it later.\n",
        "train = pd.read_csv(titanic_train)\n",
        "test = pd.read_csv(titanic_test)\n",
        "\n",
        "#This line will show us the first 5 rows of the training data.\n",
        "train.head()"
      ]
    },
    {
      "cell_type": "markdown",
      "metadata": {
        "id": "Y0fGWIrWyrYU"
      },
      "source": [
        "---"
      ]
    },
    {
      "cell_type": "markdown",
      "metadata": {
        "id": "8XghMVK-IgKv"
      },
      "source": [
        "## Scrub\n",
        "Data scrubbing, or data cleaning 🧽, is how we get the data into a format suitable for modeling or creating visualizations. For example, sometimes data is collected with a lot of missing values or it contains words when we need a numeric measurement. In the code cell below, we are filling the `Age` column with random values that are close to the mean Age."
      ]
    },
    {
      "cell_type": "code",
      "execution_count": 242,
      "metadata": {
        "id": "cxcT0tv5Kq6n"
      },
      "outputs": [],
      "source": [
        "data = [train, test]\n",
        "\n",
        "for dataset in data:\n",
        "    mean = train[\"Age\"].mean()\n",
        "    std = test[\"Age\"].std()\n",
        "    is_null = dataset[\"Age\"].isnull().sum()\n",
        "\n",
        "    # compute random numbers between the mean, std and is_null\n",
        "    rand = np.random.randint(mean - std, mean + std, size = is_null)\n",
        "\n",
        "    # fill NaN values in Age column with random values generated\n",
        "    age = dataset[\"Age\"].copy()\n",
        "    age[np.isnan(age)] = rand\n",
        "    dataset[\"Age\"] = age\n",
        "    dataset[\"Age\"] = train[\"Age\"].astype(int)\n",
        "  \n",
        "\n",
        "#Fill in NaN with most common embarked values\n",
        "common_value = 'S'\n",
        "data = [train, test]\n",
        "\n",
        "for dataset in data:\n",
        "    dataset['Embarked'] = dataset['Embarked'].fillna(common_value)\n",
        "\n",
        "data = [train, test]\n",
        "\n",
        "for dataset in data:\n",
        "    dataset['Fare'] = dataset['Fare'].fillna(0)\n",
        "    dataset['Fare'] = dataset['Fare'].astype(int)\n"
      ]
    },
    {
      "cell_type": "markdown",
      "metadata": {
        "id": "u1h5NKfLahzn"
      },
      "source": [
        "The code below changes the values from \"S\", \"C\", \"Q\" to numeric values and the `sex` column values to integers."
      ]
    },
    {
      "cell_type": "code",
      "execution_count": 243,
      "metadata": {
        "colab": {
          "base_uri": "https://localhost:8080/",
          "height": 206
        },
        "id": "dU_iD2QvYW1j",
        "outputId": "3ea5337c-5d0a-4989-a1bd-064c2f3a9c7f"
      },
      "outputs": [
        {
          "output_type": "execute_result",
          "data": {
            "text/plain": [
              "   PassengerId  Survived  Pclass  \\\n",
              "0            1         0       3   \n",
              "1            2         1       1   \n",
              "2            3         1       3   \n",
              "3            4         1       1   \n",
              "4            5         0       3   \n",
              "\n",
              "                                                Name  Sex  Age  SibSp  Parch  \\\n",
              "0                            Braund, Mr. Owen Harris    0   22      1      0   \n",
              "1  Cumings, Mrs. John Bradley (Florence Briggs Th...    1   38      1      0   \n",
              "2                             Heikkinen, Miss. Laina    1   26      0      0   \n",
              "3       Futrelle, Mrs. Jacques Heath (Lily May Peel)    1   35      1      0   \n",
              "4                           Allen, Mr. William Henry    0   35      0      0   \n",
              "\n",
              "             Ticket  Fare Cabin  Embarked  \n",
              "0         A/5 21171     7   NaN         0  \n",
              "1          PC 17599    71   C85         1  \n",
              "2  STON/O2. 3101282     7   NaN         0  \n",
              "3            113803    53  C123         0  \n",
              "4            373450     8   NaN         0  "
            ],
            "text/html": [
              "\n",
              "  <div id=\"df-c23dc501-fda6-4add-92e4-97d3d7cd609b\">\n",
              "    <div class=\"colab-df-container\">\n",
              "      <div>\n",
              "<style scoped>\n",
              "    .dataframe tbody tr th:only-of-type {\n",
              "        vertical-align: middle;\n",
              "    }\n",
              "\n",
              "    .dataframe tbody tr th {\n",
              "        vertical-align: top;\n",
              "    }\n",
              "\n",
              "    .dataframe thead th {\n",
              "        text-align: right;\n",
              "    }\n",
              "</style>\n",
              "<table border=\"1\" class=\"dataframe\">\n",
              "  <thead>\n",
              "    <tr style=\"text-align: right;\">\n",
              "      <th></th>\n",
              "      <th>PassengerId</th>\n",
              "      <th>Survived</th>\n",
              "      <th>Pclass</th>\n",
              "      <th>Name</th>\n",
              "      <th>Sex</th>\n",
              "      <th>Age</th>\n",
              "      <th>SibSp</th>\n",
              "      <th>Parch</th>\n",
              "      <th>Ticket</th>\n",
              "      <th>Fare</th>\n",
              "      <th>Cabin</th>\n",
              "      <th>Embarked</th>\n",
              "    </tr>\n",
              "  </thead>\n",
              "  <tbody>\n",
              "    <tr>\n",
              "      <th>0</th>\n",
              "      <td>1</td>\n",
              "      <td>0</td>\n",
              "      <td>3</td>\n",
              "      <td>Braund, Mr. Owen Harris</td>\n",
              "      <td>0</td>\n",
              "      <td>22</td>\n",
              "      <td>1</td>\n",
              "      <td>0</td>\n",
              "      <td>A/5 21171</td>\n",
              "      <td>7</td>\n",
              "      <td>NaN</td>\n",
              "      <td>0</td>\n",
              "    </tr>\n",
              "    <tr>\n",
              "      <th>1</th>\n",
              "      <td>2</td>\n",
              "      <td>1</td>\n",
              "      <td>1</td>\n",
              "      <td>Cumings, Mrs. John Bradley (Florence Briggs Th...</td>\n",
              "      <td>1</td>\n",
              "      <td>38</td>\n",
              "      <td>1</td>\n",
              "      <td>0</td>\n",
              "      <td>PC 17599</td>\n",
              "      <td>71</td>\n",
              "      <td>C85</td>\n",
              "      <td>1</td>\n",
              "    </tr>\n",
              "    <tr>\n",
              "      <th>2</th>\n",
              "      <td>3</td>\n",
              "      <td>1</td>\n",
              "      <td>3</td>\n",
              "      <td>Heikkinen, Miss. Laina</td>\n",
              "      <td>1</td>\n",
              "      <td>26</td>\n",
              "      <td>0</td>\n",
              "      <td>0</td>\n",
              "      <td>STON/O2. 3101282</td>\n",
              "      <td>7</td>\n",
              "      <td>NaN</td>\n",
              "      <td>0</td>\n",
              "    </tr>\n",
              "    <tr>\n",
              "      <th>3</th>\n",
              "      <td>4</td>\n",
              "      <td>1</td>\n",
              "      <td>1</td>\n",
              "      <td>Futrelle, Mrs. Jacques Heath (Lily May Peel)</td>\n",
              "      <td>1</td>\n",
              "      <td>35</td>\n",
              "      <td>1</td>\n",
              "      <td>0</td>\n",
              "      <td>113803</td>\n",
              "      <td>53</td>\n",
              "      <td>C123</td>\n",
              "      <td>0</td>\n",
              "    </tr>\n",
              "    <tr>\n",
              "      <th>4</th>\n",
              "      <td>5</td>\n",
              "      <td>0</td>\n",
              "      <td>3</td>\n",
              "      <td>Allen, Mr. William Henry</td>\n",
              "      <td>0</td>\n",
              "      <td>35</td>\n",
              "      <td>0</td>\n",
              "      <td>0</td>\n",
              "      <td>373450</td>\n",
              "      <td>8</td>\n",
              "      <td>NaN</td>\n",
              "      <td>0</td>\n",
              "    </tr>\n",
              "  </tbody>\n",
              "</table>\n",
              "</div>\n",
              "      <button class=\"colab-df-convert\" onclick=\"convertToInteractive('df-c23dc501-fda6-4add-92e4-97d3d7cd609b')\"\n",
              "              title=\"Convert this dataframe to an interactive table.\"\n",
              "              style=\"display:none;\">\n",
              "        \n",
              "  <svg xmlns=\"http://www.w3.org/2000/svg\" height=\"24px\"viewBox=\"0 0 24 24\"\n",
              "       width=\"24px\">\n",
              "    <path d=\"M0 0h24v24H0V0z\" fill=\"none\"/>\n",
              "    <path d=\"M18.56 5.44l.94 2.06.94-2.06 2.06-.94-2.06-.94-.94-2.06-.94 2.06-2.06.94zm-11 1L8.5 8.5l.94-2.06 2.06-.94-2.06-.94L8.5 2.5l-.94 2.06-2.06.94zm10 10l.94 2.06.94-2.06 2.06-.94-2.06-.94-.94-2.06-.94 2.06-2.06.94z\"/><path d=\"M17.41 7.96l-1.37-1.37c-.4-.4-.92-.59-1.43-.59-.52 0-1.04.2-1.43.59L10.3 9.45l-7.72 7.72c-.78.78-.78 2.05 0 2.83L4 21.41c.39.39.9.59 1.41.59.51 0 1.02-.2 1.41-.59l7.78-7.78 2.81-2.81c.8-.78.8-2.07 0-2.86zM5.41 20L4 18.59l7.72-7.72 1.47 1.35L5.41 20z\"/>\n",
              "  </svg>\n",
              "      </button>\n",
              "      \n",
              "  <style>\n",
              "    .colab-df-container {\n",
              "      display:flex;\n",
              "      flex-wrap:wrap;\n",
              "      gap: 12px;\n",
              "    }\n",
              "\n",
              "    .colab-df-convert {\n",
              "      background-color: #E8F0FE;\n",
              "      border: none;\n",
              "      border-radius: 50%;\n",
              "      cursor: pointer;\n",
              "      display: none;\n",
              "      fill: #1967D2;\n",
              "      height: 32px;\n",
              "      padding: 0 0 0 0;\n",
              "      width: 32px;\n",
              "    }\n",
              "\n",
              "    .colab-df-convert:hover {\n",
              "      background-color: #E2EBFA;\n",
              "      box-shadow: 0px 1px 2px rgba(60, 64, 67, 0.3), 0px 1px 3px 1px rgba(60, 64, 67, 0.15);\n",
              "      fill: #174EA6;\n",
              "    }\n",
              "\n",
              "    [theme=dark] .colab-df-convert {\n",
              "      background-color: #3B4455;\n",
              "      fill: #D2E3FC;\n",
              "    }\n",
              "\n",
              "    [theme=dark] .colab-df-convert:hover {\n",
              "      background-color: #434B5C;\n",
              "      box-shadow: 0px 1px 3px 1px rgba(0, 0, 0, 0.15);\n",
              "      filter: drop-shadow(0px 1px 2px rgba(0, 0, 0, 0.3));\n",
              "      fill: #FFFFFF;\n",
              "    }\n",
              "  </style>\n",
              "\n",
              "      <script>\n",
              "        const buttonEl =\n",
              "          document.querySelector('#df-c23dc501-fda6-4add-92e4-97d3d7cd609b button.colab-df-convert');\n",
              "        buttonEl.style.display =\n",
              "          google.colab.kernel.accessAllowed ? 'block' : 'none';\n",
              "\n",
              "        async function convertToInteractive(key) {\n",
              "          const element = document.querySelector('#df-c23dc501-fda6-4add-92e4-97d3d7cd609b');\n",
              "          const dataTable =\n",
              "            await google.colab.kernel.invokeFunction('convertToInteractive',\n",
              "                                                     [key], {});\n",
              "          if (!dataTable) return;\n",
              "\n",
              "          const docLinkHtml = 'Like what you see? Visit the ' +\n",
              "            '<a target=\"_blank\" href=https://colab.research.google.com/notebooks/data_table.ipynb>data table notebook</a>'\n",
              "            + ' to learn more about interactive tables.';\n",
              "          element.innerHTML = '';\n",
              "          dataTable['output_type'] = 'display_data';\n",
              "          await google.colab.output.renderOutput(dataTable, element);\n",
              "          const docLink = document.createElement('div');\n",
              "          docLink.innerHTML = docLinkHtml;\n",
              "          element.appendChild(docLink);\n",
              "        }\n",
              "      </script>\n",
              "    </div>\n",
              "  </div>\n",
              "  "
            ]
          },
          "metadata": {},
          "execution_count": 243
        }
      ],
      "source": [
        "ports = {\"S\": 0, \"C\": 1, \"Q\": 2}\n",
        "data = [train, test]\n",
        "\n",
        "for dataset in data:\n",
        "    dataset['Embarked'] = dataset['Embarked'].map(ports)\n",
        "\n",
        "genders = {\"male\": 0, \"female\": 1}\n",
        "data = [train, test]\n",
        "\n",
        "for dataset in data:\n",
        "    dataset['Sex'] = dataset['Sex'].map(genders)\n",
        "\n",
        "train.head()"
      ]
    },
    {
      "cell_type": "markdown",
      "metadata": {
        "id": "9RHiI2SLyrYU"
      },
      "source": [
        "## Explore"
      ]
    },
    {
      "cell_type": "markdown",
      "metadata": {
        "id": "qN12naCCyrYU"
      },
      "source": [
        "\n",
        "\n",
        "<b>Question 1:</b> Based on your preliminary exploration, what potential patterns do you see in this data set? \n",
        "\n",
        "<b>Answer: </b> YOUR ANSWER HERE\n"
      ]
    },
    {
      "cell_type": "markdown",
      "metadata": {
        "id": "WRXCtik95g-M"
      },
      "source": [
        "We will be looking at the survivors and coming up with a prediction based on the other features given to us in the dataset. Based on the visualizations below, we can see that most of the passengers are between 20 and 40 years old, did not have large families, and "
      ]
    },
    {
      "cell_type": "code",
      "execution_count": 244,
      "metadata": {
        "colab": {
          "base_uri": "https://localhost:8080/",
          "height": 1000
        },
        "id": "BE57q3Y292Ha",
        "outputId": "e9f2f838-c429-4ffa-f396-526e0ad5c086"
      },
      "outputs": [
        {
          "output_type": "display_data",
          "data": {
            "text/plain": [
              "<Figure size 432x288 with 1 Axes>"
            ],
            "image/png": "[encoded data removed]"
          },
          "metadata": {
            "needs_background": "light"
          }
        },
        {
          "output_type": "display_data",
          "data": {
            "text/plain": [
              "<Figure size 432x288 with 1 Axes>"
            ],
            "image/png": "[encoded data removed]"
          },
          "metadata": {
            "needs_background": "light"
          }
        },
        {
          "output_type": "display_data",
          "data": {
            "text/plain": [
              "<Figure size 432x288 with 1 Axes>"
            ],
            "image/png": "[encoded data removed]"
          },
          "metadata": {
            "needs_background": "light"
          }
        },
        {
          "output_type": "display_data",
          "data": {
            "text/plain": [
              "<Figure size 432x288 with 1 Axes>"
            ],
            "image/png": "[encoded data removed]"
          },
          "metadata": {
            "needs_background": "light"
          }
        }
      ],
      "source": [
        "for i in train[['Age','SibSp','Parch','Fare']].columns:\n",
        "    plt.hist(train[['Age','SibSp','Parch','Fare']][i])\n",
        "    plt.title(i)\n",
        "    plt.show()"
      ]
    },
    {
      "cell_type": "markdown",
      "metadata": {
        "id": "uivFAUQrb1VK"
      },
      "source": [
        "We only want to select the columns that we want in our model. Based on the exploration, include the column names you think will be able to inform the prediction the best."
      ]
    },
    {
      "cell_type": "code",
      "execution_count": 245,
      "metadata": {
        "colab": {
          "base_uri": "https://localhost:8080/",
          "height": 143
        },
        "id": "OaW6whJI7SlH",
        "outputId": "6275afa1-f196-48f8-8288-b83a10130d9a"
      },
      "outputs": [
        {
          "output_type": "execute_result",
          "data": {
            "text/plain": [
              "                Age       Fare     Parch     SibSp\n",
              "Survived                                          \n",
              "0         30.118397  21.690346  0.329690  0.553734\n",
              "1         28.286550  47.991228  0.464912  0.473684"
            ],
            "text/html": [
              "\n",
              "  <div id=\"df-b5100577-79bf-48b9-8630-f1565fb40b7b\">\n",
              "    <div class=\"colab-df-container\">\n",
              "      <div>\n",
              "<style scoped>\n",
              "    .dataframe tbody tr th:only-of-type {\n",
              "        vertical-align: middle;\n",
              "    }\n",
              "\n",
              "    .dataframe tbody tr th {\n",
              "        vertical-align: top;\n",
              "    }\n",
              "\n",
              "    .dataframe thead th {\n",
              "        text-align: right;\n",
              "    }\n",
              "</style>\n",
              "<table border=\"1\" class=\"dataframe\">\n",
              "  <thead>\n",
              "    <tr style=\"text-align: right;\">\n",
              "      <th></th>\n",
              "      <th>Age</th>\n",
              "      <th>Fare</th>\n",
              "      <th>Parch</th>\n",
              "      <th>SibSp</th>\n",
              "    </tr>\n",
              "    <tr>\n",
              "      <th>Survived</th>\n",
              "      <th></th>\n",
              "      <th></th>\n",
              "      <th></th>\n",
              "      <th></th>\n",
              "    </tr>\n",
              "  </thead>\n",
              "  <tbody>\n",
              "    <tr>\n",
              "      <th>0</th>\n",
              "      <td>30.118397</td>\n",
              "      <td>21.690346</td>\n",
              "      <td>0.329690</td>\n",
              "      <td>0.553734</td>\n",
              "    </tr>\n",
              "    <tr>\n",
              "      <th>1</th>\n",
              "      <td>28.286550</td>\n",
              "      <td>47.991228</td>\n",
              "      <td>0.464912</td>\n",
              "      <td>0.473684</td>\n",
              "    </tr>\n",
              "  </tbody>\n",
              "</table>\n",
              "</div>\n",
              "      <button class=\"colab-df-convert\" onclick=\"convertToInteractive('df-b5100577-79bf-48b9-8630-f1565fb40b7b')\"\n",
              "              title=\"Convert this dataframe to an interactive table.\"\n",
              "              style=\"display:none;\">\n",
              "        \n",
              "  <svg xmlns=\"http://www.w3.org/2000/svg\" height=\"24px\"viewBox=\"0 0 24 24\"\n",
              "       width=\"24px\">\n",
              "    <path d=\"M0 0h24v24H0V0z\" fill=\"none\"/>\n",
              "    <path d=\"M18.56 5.44l.94 2.06.94-2.06 2.06-.94-2.06-.94-.94-2.06-.94 2.06-2.06.94zm-11 1L8.5 8.5l.94-2.06 2.06-.94-2.06-.94L8.5 2.5l-.94 2.06-2.06.94zm10 10l.94 2.06.94-2.06 2.06-.94-2.06-.94-.94-2.06-.94 2.06-2.06.94z\"/><path d=\"M17.41 7.96l-1.37-1.37c-.4-.4-.92-.59-1.43-.59-.52 0-1.04.2-1.43.59L10.3 9.45l-7.72 7.72c-.78.78-.78 2.05 0 2.83L4 21.41c.39.39.9.59 1.41.59.51 0 1.02-.2 1.41-.59l7.78-7.78 2.81-2.81c.8-.78.8-2.07 0-2.86zM5.41 20L4 18.59l7.72-7.72 1.47 1.35L5.41 20z\"/>\n",
              "  </svg>\n",
              "      </button>\n",
              "      \n",
              "  <style>\n",
              "    .colab-df-container {\n",
              "      display:flex;\n",
              "      flex-wrap:wrap;\n",
              "      gap: 12px;\n",
              "    }\n",
              "\n",
              "    .colab-df-convert {\n",
              "      background-color: #E8F0FE;\n",
              "      border: none;\n",
              "      border-radius: 50%;\n",
              "      cursor: pointer;\n",
              "      display: none;\n",
              "      fill: #1967D2;\n",
              "      height: 32px;\n",
              "      padding: 0 0 0 0;\n",
              "      width: 32px;\n",
              "    }\n",
              "\n",
              "    .colab-df-convert:hover {\n",
              "      background-color: #E2EBFA;\n",
              "      box-shadow: 0px 1px 2px rgba(60, 64, 67, 0.3), 0px 1px 3px 1px rgba(60, 64, 67, 0.15);\n",
              "      fill: #174EA6;\n",
              "    }\n",
              "\n",
              "    [theme=dark] .colab-df-convert {\n",
              "      background-color: #3B4455;\n",
              "      fill: #D2E3FC;\n",
              "    }\n",
              "\n",
              "    [theme=dark] .colab-df-convert:hover {\n",
              "      background-color: #434B5C;\n",
              "      box-shadow: 0px 1px 3px 1px rgba(0, 0, 0, 0.15);\n",
              "      filter: drop-shadow(0px 1px 2px rgba(0, 0, 0, 0.3));\n",
              "      fill: #FFFFFF;\n",
              "    }\n",
              "  </style>\n",
              "\n",
              "      <script>\n",
              "        const buttonEl =\n",
              "          document.querySelector('#df-b5100577-79bf-48b9-8630-f1565fb40b7b button.colab-df-convert');\n",
              "        buttonEl.style.display =\n",
              "          google.colab.kernel.accessAllowed ? 'block' : 'none';\n",
              "\n",
              "        async function convertToInteractive(key) {\n",
              "          const element = document.querySelector('#df-b5100577-79bf-48b9-8630-f1565fb40b7b');\n",
              "          const dataTable =\n",
              "            await google.colab.kernel.invokeFunction('convertToInteractive',\n",
              "                                                     [key], {});\n",
              "          if (!dataTable) return;\n",
              "\n",
              "          const docLinkHtml = 'Like what you see? Visit the ' +\n",
              "            '<a target=\"_blank\" href=https://colab.research.google.com/notebooks/data_table.ipynb>data table notebook</a>'\n",
              "            + ' to learn more about interactive tables.';\n",
              "          element.innerHTML = '';\n",
              "          dataTable['output_type'] = 'display_data';\n",
              "          await google.colab.output.renderOutput(dataTable, element);\n",
              "          const docLink = document.createElement('div');\n",
              "          docLink.innerHTML = docLinkHtml;\n",
              "          element.appendChild(docLink);\n",
              "        }\n",
              "      </script>\n",
              "    </div>\n",
              "  </div>\n",
              "  "
            ]
          },
          "metadata": {},
          "execution_count": 245
        }
      ],
      "source": [
        "#This shows us the averages for the survived (1) and not survived (0).\n",
        "pd.pivot_table(train, index = 'Survived', values = ['Age','SibSp','Parch','Fare'])\n"
      ]
    },
    {
      "cell_type": "markdown",
      "metadata": {
        "id": "dz0wSkVc9DdH"
      },
      "source": [
        "**What do you notice about the above pivot table?**"
      ]
    },
    {
      "cell_type": "markdown",
      "metadata": {
        "id": "edTC3U9r9F1a"
      },
      "source": [
        "[Insert answer here]"
      ]
    },
    {
      "cell_type": "code",
      "execution_count": 246,
      "metadata": {
        "colab": {
          "base_uri": "https://localhost:8080/",
          "height": 206
        },
        "id": "rLUpqz15b_58",
        "outputId": "d4673c12-7b4e-46cb-d20a-303905785000"
      },
      "outputs": [
        {
          "output_type": "execute_result",
          "data": {
            "text/plain": [
              "   Survived  Pclass  Sex  Age  SibSp  Parch  Fare  Embarked\n",
              "0         0       3    0   22      1      0     7         0\n",
              "1         1       1    1   38      1      0    71         1\n",
              "2         1       3    1   26      0      0     7         0\n",
              "3         1       1    1   35      1      0    53         0\n",
              "4         0       3    0   35      0      0     8         0"
            ],
            "text/html": [
              "\n",
              "  <div id=\"df-0e036325-32f3-4842-9309-6a4a37bb0736\">\n",
              "    <div class=\"colab-df-container\">\n",
              "      <div>\n",
              "<style scoped>\n",
              "    .dataframe tbody tr th:only-of-type {\n",
              "        vertical-align: middle;\n",
              "    }\n",
              "\n",
              "    .dataframe tbody tr th {\n",
              "        vertical-align: top;\n",
              "    }\n",
              "\n",
              "    .dataframe thead th {\n",
              "        text-align: right;\n",
              "    }\n",
              "</style>\n",
              "<table border=\"1\" class=\"dataframe\">\n",
              "  <thead>\n",
              "    <tr style=\"text-align: right;\">\n",
              "      <th></th>\n",
              "      <th>Survived</th>\n",
              "      <th>Pclass</th>\n",
              "      <th>Sex</th>\n",
              "      <th>Age</th>\n",
              "      <th>SibSp</th>\n",
              "      <th>Parch</th>\n",
              "      <th>Fare</th>\n",
              "      <th>Embarked</th>\n",
              "    </tr>\n",
              "  </thead>\n",
              "  <tbody>\n",
              "    <tr>\n",
              "      <th>0</th>\n",
              "      <td>0</td>\n",
              "      <td>3</td>\n",
              "      <td>0</td>\n",
              "      <td>22</td>\n",
              "      <td>1</td>\n",
              "      <td>0</td>\n",
              "      <td>7</td>\n",
              "      <td>0</td>\n",
              "    </tr>\n",
              "    <tr>\n",
              "      <th>1</th>\n",
              "      <td>1</td>\n",
              "      <td>1</td>\n",
              "      <td>1</td>\n",
              "      <td>38</td>\n",
              "      <td>1</td>\n",
              "      <td>0</td>\n",
              "      <td>71</td>\n",
              "      <td>1</td>\n",
              "    </tr>\n",
              "    <tr>\n",
              "      <th>2</th>\n",
              "      <td>1</td>\n",
              "      <td>3</td>\n",
              "      <td>1</td>\n",
              "      <td>26</td>\n",
              "      <td>0</td>\n",
              "      <td>0</td>\n",
              "      <td>7</td>\n",
              "      <td>0</td>\n",
              "    </tr>\n",
              "    <tr>\n",
              "      <th>3</th>\n",
              "      <td>1</td>\n",
              "      <td>1</td>\n",
              "      <td>1</td>\n",
              "      <td>35</td>\n",
              "      <td>1</td>\n",
              "      <td>0</td>\n",
              "      <td>53</td>\n",
              "      <td>0</td>\n",
              "    </tr>\n",
              "    <tr>\n",
              "      <th>4</th>\n",
              "      <td>0</td>\n",
              "      <td>3</td>\n",
              "      <td>0</td>\n",
              "      <td>35</td>\n",
              "      <td>0</td>\n",
              "      <td>0</td>\n",
              "      <td>8</td>\n",
              "      <td>0</td>\n",
              "    </tr>\n",
              "  </tbody>\n",
              "</table>\n",
              "</div>\n",
              "      <button class=\"colab-df-convert\" onclick=\"convertToInteractive('df-0e036325-32f3-4842-9309-6a4a37bb0736')\"\n",
              "              title=\"Convert this dataframe to an interactive table.\"\n",
              "              style=\"display:none;\">\n",
              "        \n",
              "  <svg xmlns=\"http://www.w3.org/2000/svg\" height=\"24px\"viewBox=\"0 0 24 24\"\n",
              "       width=\"24px\">\n",
              "    <path d=\"M0 0h24v24H0V0z\" fill=\"none\"/>\n",
              "    <path d=\"M18.56 5.44l.94 2.06.94-2.06 2.06-.94-2.06-.94-.94-2.06-.94 2.06-2.06.94zm-11 1L8.5 8.5l.94-2.06 2.06-.94-2.06-.94L8.5 2.5l-.94 2.06-2.06.94zm10 10l.94 2.06.94-2.06 2.06-.94-2.06-.94-.94-2.06-.94 2.06-2.06.94z\"/><path d=\"M17.41 7.96l-1.37-1.37c-.4-.4-.92-.59-1.43-.59-.52 0-1.04.2-1.43.59L10.3 9.45l-7.72 7.72c-.78.78-.78 2.05 0 2.83L4 21.41c.39.39.9.59 1.41.59.51 0 1.02-.2 1.41-.59l7.78-7.78 2.81-2.81c.8-.78.8-2.07 0-2.86zM5.41 20L4 18.59l7.72-7.72 1.47 1.35L5.41 20z\"/>\n",
              "  </svg>\n",
              "      </button>\n",
              "      \n",
              "  <style>\n",
              "    .colab-df-container {\n",
              "      display:flex;\n",
              "      flex-wrap:wrap;\n",
              "      gap: 12px;\n",
              "    }\n",
              "\n",
              "    .colab-df-convert {\n",
              "      background-color: #E8F0FE;\n",
              "      border: none;\n",
              "      border-radius: 50%;\n",
              "      cursor: pointer;\n",
              "      display: none;\n",
              "      fill: #1967D2;\n",
              "      height: 32px;\n",
              "      padding: 0 0 0 0;\n",
              "      width: 32px;\n",
              "    }\n",
              "\n",
              "    .colab-df-convert:hover {\n",
              "      background-color: #E2EBFA;\n",
              "      box-shadow: 0px 1px 2px rgba(60, 64, 67, 0.3), 0px 1px 3px 1px rgba(60, 64, 67, 0.15);\n",
              "      fill: #174EA6;\n",
              "    }\n",
              "\n",
              "    [theme=dark] .colab-df-convert {\n",
              "      background-color: #3B4455;\n",
              "      fill: #D2E3FC;\n",
              "    }\n",
              "\n",
              "    [theme=dark] .colab-df-convert:hover {\n",
              "      background-color: #434B5C;\n",
              "      box-shadow: 0px 1px 3px 1px rgba(0, 0, 0, 0.15);\n",
              "      filter: drop-shadow(0px 1px 2px rgba(0, 0, 0, 0.3));\n",
              "      fill: #FFFFFF;\n",
              "    }\n",
              "  </style>\n",
              "\n",
              "      <script>\n",
              "        const buttonEl =\n",
              "          document.querySelector('#df-0e036325-32f3-4842-9309-6a4a37bb0736 button.colab-df-convert');\n",
              "        buttonEl.style.display =\n",
              "          google.colab.kernel.accessAllowed ? 'block' : 'none';\n",
              "\n",
              "        async function convertToInteractive(key) {\n",
              "          const element = document.querySelector('#df-0e036325-32f3-4842-9309-6a4a37bb0736');\n",
              "          const dataTable =\n",
              "            await google.colab.kernel.invokeFunction('convertToInteractive',\n",
              "                                                     [key], {});\n",
              "          if (!dataTable) return;\n",
              "\n",
              "          const docLinkHtml = 'Like what you see? Visit the ' +\n",
              "            '<a target=\"_blank\" href=https://colab.research.google.com/notebooks/data_table.ipynb>data table notebook</a>'\n",
              "            + ' to learn more about interactive tables.';\n",
              "          element.innerHTML = '';\n",
              "          dataTable['output_type'] = 'display_data';\n",
              "          await google.colab.output.renderOutput(dataTable, element);\n",
              "          const docLink = document.createElement('div');\n",
              "          docLink.innerHTML = docLinkHtml;\n",
              "          element.appendChild(docLink);\n",
              "        }\n",
              "      </script>\n",
              "    </div>\n",
              "  </div>\n",
              "  "
            ]
          },
          "metadata": {},
          "execution_count": 246
        }
      ],
      "source": [
        "train = train[[\"Survived\", \"Pclass\", \"Sex\", \"Age\", \"SibSp\", \"Parch\", \"Fare\", \"Embarked\"]]\n",
        "test = test[[\"Pclass\", \"Sex\", \"Age\", \"SibSp\", \"Parch\", \"Fare\", \"Embarked\"]]\n",
        "train.head()"
      ]
    },
    {
      "cell_type": "markdown",
      "metadata": {
        "id": "mWEQA1GTyrYV"
      },
      "source": [
        "## Model\n",
        "\n",
        "Data scientists use models to predict outcomes based on data they currently have. There are many different kinds of models and each one is suitable for a different kind of question or problem."
      ]
    },
    {
      "cell_type": "markdown",
      "metadata": {
        "id": "d_OcW2mT5lKp"
      },
      "source": [
        "### Logistic Regression\n",
        "A logistic regression is a simple model that helps us to predict binary outcomes. For example, a logistic regression model could be used to predict whether a team will win or lose a game or whether someone survived the Titanic sinking or not."
      ]
    },
    {
      "cell_type": "code",
      "execution_count": 247,
      "metadata": {
        "colab": {
          "base_uri": "https://localhost:8080/"
        },
        "id": "QLCygYhiyrYV",
        "outputId": "0dcc2137-30f8-4e72-af16-e99e47becfdc"
      },
      "outputs": [
        {
          "output_type": "stream",
          "name": "stderr",
          "text": [
            "/usr/local/lib/python3.7/dist-packages/sklearn/linear_model/_logistic.py:818: ConvergenceWarning: lbfgs failed to converge (status=1):\n",
            "STOP: TOTAL NO. of ITERATIONS REACHED LIMIT.\n",
            "\n",
            "Increase the number of iterations (max_iter) or scale the data as shown in:\n",
            "    https://scikit-learn.org/stable/modules/preprocessing.html\n",
            "Please also refer to the documentation for alternative solver options:\n",
            "    https://scikit-learn.org/stable/modules/linear_model.html#logistic-regression\n",
            "  extra_warning_msg=_LOGISTIC_SOLVER_CONVERGENCE_MSG,\n"
          ]
        },
        {
          "output_type": "execute_result",
          "data": {
            "text/plain": [
              "79.79798"
            ]
          },
          "metadata": {},
          "execution_count": 247
        }
      ],
      "source": [
        "X_train = train.drop(\"Survived\", axis=1)\n",
        "Y_train = train[\"Survived\"]\n",
        "X_test  = test.copy()\n",
        "lr = LogisticRegression()\n",
        "lr.fit(X_train, Y_train)\n",
        "\n",
        "Y_pred = lr.predict(X_test)\n",
        "\n",
        "accuracy = round(lr.score(X_train, Y_train) * 100, 5)\n",
        "accuracy"
      ]
    },
    {
      "cell_type": "markdown",
      "source": [
        "## Comment\n",
        "I ran the model 10 times, here are the accuracy scores:\n",
        "79.57351 80.13468 80.02245 80.02245 80.13468 79.46128 79.79798 80.58361 80.13468 80.58361  The range of values is 79.46 to 80.58, a difference of over 1."
      ],
      "metadata": {
        "id": "6TmZAY2EHLvF"
      }
    },
    {
      "cell_type": "markdown",
      "metadata": {
        "id": "FdlPKjCc0b-b"
      },
      "source": [
        "In the cell below, you can edit which columns you decide to keep in the training set by referencing the data dictionary from 1.8.2. Make sure to update the test table too."
      ]
    },
    {
      "cell_type": "code",
      "execution_count": 248,
      "metadata": {
        "colab": {
          "base_uri": "https://localhost:8080/"
        },
        "id": "N2yyriMR0aDF",
        "outputId": "cfe23efe-64e5-4f2d-fd57-1315ee7d41fa"
      },
      "outputs": [
        {
          "output_type": "stream",
          "name": "stderr",
          "text": [
            "/usr/local/lib/python3.7/dist-packages/sklearn/linear_model/_logistic.py:818: ConvergenceWarning: lbfgs failed to converge (status=1):\n",
            "STOP: TOTAL NO. of ITERATIONS REACHED LIMIT.\n",
            "\n",
            "Increase the number of iterations (max_iter) or scale the data as shown in:\n",
            "    https://scikit-learn.org/stable/modules/preprocessing.html\n",
            "Please also refer to the documentation for alternative solver options:\n",
            "    https://scikit-learn.org/stable/modules/linear_model.html#logistic-regression\n",
            "  extra_warning_msg=_LOGISTIC_SOLVER_CONVERGENCE_MSG,\n"
          ]
        },
        {
          "output_type": "execute_result",
          "data": {
            "text/plain": [
              "79.79798"
            ]
          },
          "metadata": {},
          "execution_count": 248
        }
      ],
      "source": [
        "train = train[[\"Survived\", \"Pclass\", \"Sex\", \"Age\", \"SibSp\", \"Parch\", \"Fare\", \"Embarked\"]]\n",
        "test = test[[\"Pclass\", \"Sex\", \"Age\", \"SibSp\", \"Parch\", \"Fare\", \"Embarked\"]]\n",
        "X_train = train.drop(\"Survived\", axis=1)\n",
        "Y_train = train[\"Survived\"]\n",
        "X_test  = test.copy()\n",
        "lr = LogisticRegression()\n",
        "lr.fit(X_train, Y_train)\n",
        "\n",
        "Y_pred = lr.predict(X_test)\n",
        "\n",
        "accuracy = round(lr.score(X_train, Y_train) * 100, 5)\n",
        "accuracy\n",
        "\n",
        "#Re-run the model with new train columns."
      ]
    },
    {
      "cell_type": "markdown",
      "source": [
        "I then ran the model without age as a regression factor.  The model's accuracy was 79.91021\\%, which is within the error bounds of the full model.  I therefore conclude that age is not relevant to the model.\n",
        "I ran the model using all factors except sex, and got an accuracy of 68.69\\%.  This is better than the \"Everyone dies prediction\"\n",
        "I then modelled with only sex as the determing factor, and the accuracy went to 78.67565. The full model is only slightly better than the model using only sex, and the other variables have littel predictive value. \n",
        "There is something odd about this model.  The 7 variable model scores 79.91%, while Pclass+Sex+Sibsp give 80.02%  If I then get rid of Pclass, the score goes up to 79.12\\%."
      ],
      "metadata": {
        "id": "M9T4ozOCI4aK"
      }
    },
    {
      "cell_type": "markdown",
      "metadata": {
        "id": "q9FrRHZnyrYV"
      },
      "source": [
        "## Interpret"
      ]
    },
    {
      "cell_type": "markdown",
      "metadata": {
        "id": "x7KXSlbnyrYV"
      },
      "source": [
        "What do you notice about the accuracy? Does 80% seem like a good score? "
      ]
    },
    {
      "cell_type": "markdown",
      "source": [
        ""
      ],
      "metadata": {
        "id": "BGzVP5OqQJvr"
      }
    },
    {
      "cell_type": "markdown",
      "metadata": {
        "id": "XZa5cuYZ7_lw"
      },
      "source": [
        "[It is probably about as good as we will get.  'Everybody dies$^{tm}$' gives a score of 62%] "
      ]
    },
    {
      "cell_type": "markdown",
      "metadata": {
        "id": "1pYeWxjPy8My"
      },
      "source": [
        "---\n",
        "## Closing Remarks\n",
        "When makeing predictions based on models, we assign an accuracy score but there is usually more to it. Data Scientists will conduct something called **cross validation** to evaluate their models and comment on how reliable they are for decision making. The full-time program will go more into how to create more intricate models and utilize them to make decisions along with the impications that come with that.\n",
        "\n",
        "Congratulations! You have made it through the Introductory Project!"
      ]
    },
    {
      "cell_type": "markdown",
      "metadata": {
        "id": "VBULdrFA3Itf"
      },
      "source": [
        "---\n",
        "## Additional Resources\n",
        "- Links to resources/articles\n",
        "- [Supervised vs Unsupervised](https://www.ibm.com/cloud/blog/supervised-vs-unsupervised-learning)\n",
        "\n",
        "*Techniques simplified from ones used in this [article.](https://towardsdatascience.com/predicting-the-survival-of-titanic-passengers-30870ccc7e8)\n",
        "\n",
        "*Pivot table from: [Project](https://www.analyticsvidhya.com/blog/2021/05/titanic-survivors-a-guide-for-your-first-data-science-project/)"
      ]
    },
    {
      "cell_type": "code",
      "execution_count": 249,
      "metadata": {
        "id": "qJi0CZybLjqO",
        "colab": {
          "base_uri": "https://localhost:8080/"
        },
        "outputId": "5351f079-0884-444f-a4cd-28426b7b60a5"
      },
      "outputs": [
        {
          "output_type": "execute_result",
          "data": {
            "text/plain": [
              "418"
            ]
          },
          "metadata": {},
          "execution_count": 249
        }
      ],
      "source": [
        "len(test)"
      ]
    },
    {
      "cell_type": "code",
      "source": [
        "len(train)"
      ],
      "metadata": {
        "colab": {
          "base_uri": "https://localhost:8080/"
        },
        "id": "NpbZ1iIzzewl",
        "outputId": "8325ed7b-5c27-4ed2-a3b6-1b6906bd25e9"
      },
      "execution_count": 250,
      "outputs": [
        {
          "output_type": "execute_result",
          "data": {
            "text/plain": [
              "891"
            ]
          },
          "metadata": {},
          "execution_count": 250
        }
      ]
    },
    {
      "cell_type": "code",
      "source": [
        "train[train['Survived']==1]"
      ],
      "metadata": {
        "colab": {
          "base_uri": "https://localhost:8080/",
          "height": 424
        },
        "id": "vl9sTsfj3Pdz",
        "outputId": "f8818d73-0290-44eb-814c-c8bf6f513483"
      },
      "execution_count": 251,
      "outputs": [
        {
          "output_type": "execute_result",
          "data": {
            "text/plain": [
              "     Survived  Pclass  Sex  Age  SibSp  Parch  Fare  Embarked\n",
              "1           1       1    1   38      1      0    71         1\n",
              "2           1       3    1   26      0      0     7         0\n",
              "3           1       1    1   35      1      0    53         0\n",
              "8           1       3    1   27      0      2    11         0\n",
              "9           1       2    1   14      1      0    30         1\n",
              "..        ...     ...  ...  ...    ...    ...   ...       ...\n",
              "875         1       3    1   15      0      0     7         1\n",
              "879         1       1    1   56      0      1    83         1\n",
              "880         1       2    1   25      0      1    26         0\n",
              "887         1       1    1   19      0      0    30         0\n",
              "889         1       1    0   26      0      0    30         1\n",
              "\n",
              "[342 rows x 8 columns]"
            ],
            "text/html": [
              "\n",
              "  <div id=\"df-fa1f9556-5cd3-445d-9b9e-553aecadc2e2\">\n",
              "    <div class=\"colab-df-container\">\n",
              "      <div>\n",
              "<style scoped>\n",
              "    .dataframe tbody tr th:only-of-type {\n",
              "        vertical-align: middle;\n",
              "    }\n",
              "\n",
              "    .dataframe tbody tr th {\n",
              "        vertical-align: top;\n",
              "    }\n",
              "\n",
              "    .dataframe thead th {\n",
              "        text-align: right;\n",
              "    }\n",
              "</style>\n",
              "<table border=\"1\" class=\"dataframe\">\n",
              "  <thead>\n",
              "    <tr style=\"text-align: right;\">\n",
              "      <th></th>\n",
              "      <th>Survived</th>\n",
              "      <th>Pclass</th>\n",
              "      <th>Sex</th>\n",
              "      <th>Age</th>\n",
              "      <th>SibSp</th>\n",
              "      <th>Parch</th>\n",
              "      <th>Fare</th>\n",
              "      <th>Embarked</th>\n",
              "    </tr>\n",
              "  </thead>\n",
              "  <tbody>\n",
              "    <tr>\n",
              "      <th>1</th>\n",
              "      <td>1</td>\n",
              "      <td>1</td>\n",
              "      <td>1</td>\n",
              "      <td>38</td>\n",
              "      <td>1</td>\n",
              "      <td>0</td>\n",
              "      <td>71</td>\n",
              "      <td>1</td>\n",
              "    </tr>\n",
              "    <tr>\n",
              "      <th>2</th>\n",
              "      <td>1</td>\n",
              "      <td>3</td>\n",
              "      <td>1</td>\n",
              "      <td>26</td>\n",
              "      <td>0</td>\n",
              "      <td>0</td>\n",
              "      <td>7</td>\n",
              "      <td>0</td>\n",
              "    </tr>\n",
              "    <tr>\n",
              "      <th>3</th>\n",
              "      <td>1</td>\n",
              "      <td>1</td>\n",
              "      <td>1</td>\n",
              "      <td>35</td>\n",
              "      <td>1</td>\n",
              "      <td>0</td>\n",
              "      <td>53</td>\n",
              "      <td>0</td>\n",
              "    </tr>\n",
              "    <tr>\n",
              "      <th>8</th>\n",
              "      <td>1</td>\n",
              "      <td>3</td>\n",
              "      <td>1</td>\n",
              "      <td>27</td>\n",
              "      <td>0</td>\n",
              "      <td>2</td>\n",
              "      <td>11</td>\n",
              "      <td>0</td>\n",
              "    </tr>\n",
              "    <tr>\n",
              "      <th>9</th>\n",
              "      <td>1</td>\n",
              "      <td>2</td>\n",
              "      <td>1</td>\n",
              "      <td>14</td>\n",
              "      <td>1</td>\n",
              "      <td>0</td>\n",
              "      <td>30</td>\n",
              "      <td>1</td>\n",
              "    </tr>\n",
              "    <tr>\n",
              "      <th>...</th>\n",
              "      <td>...</td>\n",
              "      <td>...</td>\n",
              "      <td>...</td>\n",
              "      <td>...</td>\n",
              "      <td>...</td>\n",
              "      <td>...</td>\n",
              "      <td>...</td>\n",
              "      <td>...</td>\n",
              "    </tr>\n",
              "    <tr>\n",
              "      <th>875</th>\n",
              "      <td>1</td>\n",
              "      <td>3</td>\n",
              "      <td>1</td>\n",
              "      <td>15</td>\n",
              "      <td>0</td>\n",
              "      <td>0</td>\n",
              "      <td>7</td>\n",
              "      <td>1</td>\n",
              "    </tr>\n",
              "    <tr>\n",
              "      <th>879</th>\n",
              "      <td>1</td>\n",
              "      <td>1</td>\n",
              "      <td>1</td>\n",
              "      <td>56</td>\n",
              "      <td>0</td>\n",
              "      <td>1</td>\n",
              "      <td>83</td>\n",
              "      <td>1</td>\n",
              "    </tr>\n",
              "    <tr>\n",
              "      <th>880</th>\n",
              "      <td>1</td>\n",
              "      <td>2</td>\n",
              "      <td>1</td>\n",
              "      <td>25</td>\n",
              "      <td>0</td>\n",
              "      <td>1</td>\n",
              "      <td>26</td>\n",
              "      <td>0</td>\n",
              "    </tr>\n",
              "    <tr>\n",
              "      <th>887</th>\n",
              "      <td>1</td>\n",
              "      <td>1</td>\n",
              "      <td>1</td>\n",
              "      <td>19</td>\n",
              "      <td>0</td>\n",
              "      <td>0</td>\n",
              "      <td>30</td>\n",
              "      <td>0</td>\n",
              "    </tr>\n",
              "    <tr>\n",
              "      <th>889</th>\n",
              "      <td>1</td>\n",
              "      <td>1</td>\n",
              "      <td>0</td>\n",
              "      <td>26</td>\n",
              "      <td>0</td>\n",
              "      <td>0</td>\n",
              "      <td>30</td>\n",
              "      <td>1</td>\n",
              "    </tr>\n",
              "  </tbody>\n",
              "</table>\n",
              "<p>342 rows × 8 columns</p>\n",
              "</div>\n",
              "      <button class=\"colab-df-convert\" onclick=\"convertToInteractive('df-fa1f9556-5cd3-445d-9b9e-553aecadc2e2')\"\n",
              "              title=\"Convert this dataframe to an interactive table.\"\n",
              "              style=\"display:none;\">\n",
              "        \n",
              "  <svg xmlns=\"http://www.w3.org/2000/svg\" height=\"24px\"viewBox=\"0 0 24 24\"\n",
              "       width=\"24px\">\n",
              "    <path d=\"M0 0h24v24H0V0z\" fill=\"none\"/>\n",
              "    <path d=\"M18.56 5.44l.94 2.06.94-2.06 2.06-.94-2.06-.94-.94-2.06-.94 2.06-2.06.94zm-11 1L8.5 8.5l.94-2.06 2.06-.94-2.06-.94L8.5 2.5l-.94 2.06-2.06.94zm10 10l.94 2.06.94-2.06 2.06-.94-2.06-.94-.94-2.06-.94 2.06-2.06.94z\"/><path d=\"M17.41 7.96l-1.37-1.37c-.4-.4-.92-.59-1.43-.59-.52 0-1.04.2-1.43.59L10.3 9.45l-7.72 7.72c-.78.78-.78 2.05 0 2.83L4 21.41c.39.39.9.59 1.41.59.51 0 1.02-.2 1.41-.59l7.78-7.78 2.81-2.81c.8-.78.8-2.07 0-2.86zM5.41 20L4 18.59l7.72-7.72 1.47 1.35L5.41 20z\"/>\n",
              "  </svg>\n",
              "      </button>\n",
              "      \n",
              "  <style>\n",
              "    .colab-df-container {\n",
              "      display:flex;\n",
              "      flex-wrap:wrap;\n",
              "      gap: 12px;\n",
              "    }\n",
              "\n",
              "    .colab-df-convert {\n",
              "      background-color: #E8F0FE;\n",
              "      border: none;\n",
              "      border-radius: 50%;\n",
              "      cursor: pointer;\n",
              "      display: none;\n",
              "      fill: #1967D2;\n",
              "      height: 32px;\n",
              "      padding: 0 0 0 0;\n",
              "      width: 32px;\n",
              "    }\n",
              "\n",
              "    .colab-df-convert:hover {\n",
              "      background-color: #E2EBFA;\n",
              "      box-shadow: 0px 1px 2px rgba(60, 64, 67, 0.3), 0px 1px 3px 1px rgba(60, 64, 67, 0.15);\n",
              "      fill: #174EA6;\n",
              "    }\n",
              "\n",
              "    [theme=dark] .colab-df-convert {\n",
              "      background-color: #3B4455;\n",
              "      fill: #D2E3FC;\n",
              "    }\n",
              "\n",
              "    [theme=dark] .colab-df-convert:hover {\n",
              "      background-color: #434B5C;\n",
              "      box-shadow: 0px 1px 3px 1px rgba(0, 0, 0, 0.15);\n",
              "      filter: drop-shadow(0px 1px 2px rgba(0, 0, 0, 0.3));\n",
              "      fill: #FFFFFF;\n",
              "    }\n",
              "  </style>\n",
              "\n",
              "      <script>\n",
              "        const buttonEl =\n",
              "          document.querySelector('#df-fa1f9556-5cd3-445d-9b9e-553aecadc2e2 button.colab-df-convert');\n",
              "        buttonEl.style.display =\n",
              "          google.colab.kernel.accessAllowed ? 'block' : 'none';\n",
              "\n",
              "        async function convertToInteractive(key) {\n",
              "          const element = document.querySelector('#df-fa1f9556-5cd3-445d-9b9e-553aecadc2e2');\n",
              "          const dataTable =\n",
              "            await google.colab.kernel.invokeFunction('convertToInteractive',\n",
              "                                                     [key], {});\n",
              "          if (!dataTable) return;\n",
              "\n",
              "          const docLinkHtml = 'Like what you see? Visit the ' +\n",
              "            '<a target=\"_blank\" href=https://colab.research.google.com/notebooks/data_table.ipynb>data table notebook</a>'\n",
              "            + ' to learn more about interactive tables.';\n",
              "          element.innerHTML = '';\n",
              "          dataTable['output_type'] = 'display_data';\n",
              "          await google.colab.output.renderOutput(dataTable, element);\n",
              "          const docLink = document.createElement('div');\n",
              "          docLink.innerHTML = docLinkHtml;\n",
              "          element.appendChild(docLink);\n",
              "        }\n",
              "      </script>\n",
              "    </div>\n",
              "  </div>\n",
              "  "
            ]
          },
          "metadata": {},
          "execution_count": 251
        }
      ]
    },
    {
      "cell_type": "code",
      "source": [
        ""
      ],
      "metadata": {
        "id": "6PRlfzBB309P"
      },
      "execution_count": 251,
      "outputs": []
    }
  ],
  "metadata": {
    "anaconda-cloud": {},
    "colab": {
      "collapsed_sections": [],
      "name": "1.8.3 Activity.ipynb",
      "provenance": [],
      "toc_visible": true
    },
    "kernelspec": {
      "display_name": "Python 3 (ipykernel)",
      "language": "python",
      "name": "python3"
    },
    "language_info": {
      "codemirror_mode": {
        "name": "ipython",
        "version": 3
      },
      "file_extension": ".py",
      "mimetype": "text/x-python",
      "name": "python",
      "nbconvert_exporter": "python",
      "pygments_lexer": "ipython3",
      "version": "3.9.7"
    }
  },
  "nbformat": 4,
  "nbformat_minor": 0
}